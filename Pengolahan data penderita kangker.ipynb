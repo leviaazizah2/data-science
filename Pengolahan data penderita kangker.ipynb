{
  "nbformat": 4,
  "nbformat_minor": 0,
  "metadata": {
    "colab": {
      "private_outputs": true,
      "provenance": []
    },
    "kernelspec": {
      "name": "python3",
      "display_name": "Python 3"
    },
    "language_info": {
      "name": "python"
    }
  },
  "cells": [
    {
      "cell_type": "markdown",
      "source": [
        "# 1. Busines Understanding\n",
        "Tujuan dari menganalisi ini adalah:\n",
        "\n",
        "\n",
        "*   Mengetahui Algoritma Machine Learning yang cocok digunakan untuk klasifikasi diagnosis penyakit Kanker\n",
        "*   Algoritma Machine Learning yang digunakan adalah: Algoritma K-NN, Algoritma Naive Bayes, Algoritma Decision Tree, Algoritma LogisticRegression, Algoritma Random Foreest, dan Algoritma Support Vector Machine (SVM)\n",
        "\n"
      ],
      "metadata": {
        "id": "iU0_VJpD_cvL"
      }
    },
    {
      "cell_type": "markdown",
      "source": [
        "# 2. Data Understanding\n",
        "\n",
        "\n",
        "*   Dataset yang digunakan adalah Cancer_Data.csv\n",
        "*   Dataset tersebut didapatkan melalui Kaggle\n",
        "https://www.kaggle.com/datasets/erdemtaha/cancer-data\n",
        "\n"
      ],
      "metadata": {
        "id": "l8f7giBIAWSW"
      }
    },
    {
      "cell_type": "markdown",
      "source": [
        "# 3. Data Preparation"
      ],
      "metadata": {
        "id": "OEEH-5ffBAX3"
      }
    },
    {
      "cell_type": "code",
      "execution_count": null,
      "metadata": {
        "id": "g7knClRsBsJL"
      },
      "outputs": [],
      "source": [
        "# Mengimport seluruh module yang dibutuhkan\n",
        "import pandas as pd\n",
        "import numpy as np\n",
        "import seaborn as sns\n",
        "import matplotlib.pyplot as plt\n",
        "%matplotlib inline\n",
        "\n",
        "# import sklearn\n",
        "from sklearn import metrics\n",
        "from sklearn.model_selection import train_test_split\n",
        "from sklearn.metrics import accuracy_score, confusion_matrix, precision_score, recall_score, classification_report\n",
        "\n",
        "#import LabelEncoder\n",
        "from sklearn.preprocessing import LabelEncoder\n",
        "\n",
        "# Algoritma k-NN\n",
        "from sklearn.neighbors import KNeighborsClassifier\n",
        "\n",
        "# Algoritma Naive Bayes\n",
        "from sklearn.naive_bayes import GaussianNB\n",
        "\n",
        "# Algoritma Decision Tree\n",
        "from sklearn.tree import DecisionTreeClassifier\n",
        "\n",
        "# Algoritma LogisticRegression\n",
        "from sklearn.linear_model import LogisticRegression\n",
        "\n",
        "# Algoritma Random Foreest\n",
        "from sklearn.ensemble import RandomForestClassifier\n",
        "\n",
        "# Algoritma Support Vector Machine (SVC)\n",
        "from sklearn.svm import SVC"
      ]
    },
    {
      "cell_type": "code",
      "source": [
        "# Membaca dataset dalam bentuk csv\n",
        "\n",
        "cancer = pd.read_csv('/content/drive/MyDrive/MYUU DRIVE/Cancer_Data.csv')\n",
        "\n",
        "# Melihat data\n",
        "\n",
        "cancer.head()"
      ],
      "metadata": {
        "id": "VS4-zz0f30Y6"
      },
      "execution_count": null,
      "outputs": []
    },
    {
      "cell_type": "code",
      "source": [
        "# Cancer.drop digunakan untuk membuang data yang tidak digunakan\n",
        "# Data yang tidak saya gunakan adalah id dan Unnamed: 32\n",
        "cancer.drop(['id', 'Unnamed: 32'], axis = 1, inplace=True)\n",
        "cancer.head()"
      ],
      "metadata": {
        "id": "RvOanfoi4fOn"
      },
      "execution_count": null,
      "outputs": []
    },
    {
      "cell_type": "code",
      "source": [
        "# Memahami bentuk data dalam dataset (569 data, 31 kolom)\n",
        "cancer.shape"
      ],
      "metadata": {
        "id": "23D2DwVR5YZK"
      },
      "execution_count": null,
      "outputs": []
    },
    {
      "cell_type": "code",
      "source": [
        "cancer.columns"
      ],
      "metadata": {
        "id": "IxVsZ3W28b6y"
      },
      "execution_count": null,
      "outputs": []
    },
    {
      "cell_type": "code",
      "source": [
        "# Memahami data dan atribut dalam dataset cancer\n",
        "cancer.info()"
      ],
      "metadata": {
        "id": "BRumf0fo6M4f"
      },
      "execution_count": null,
      "outputs": []
    },
    {
      "cell_type": "code",
      "source": [
        "#Mengecek Null\n",
        "cancer.isnull().sum()"
      ],
      "metadata": {
        "id": "1oVdPFU76iEb"
      },
      "execution_count": null,
      "outputs": []
    },
    {
      "cell_type": "code",
      "source": [
        "# Mencari jumlah dari data diagnosis (object)\n",
        "cancer['diagnosis'].value_counts()"
      ],
      "metadata": {
        "id": "4J61r7_qb_5t"
      },
      "execution_count": null,
      "outputs": []
    },
    {
      "cell_type": "code",
      "source": [
        "# Merubah data nominal ke data numerik\n",
        "cancer2 = cancer.copy()\n",
        "cancer2 = cancer2.replace({ 'diagnosis': {'B': 0, 'M': 1}})"
      ],
      "metadata": {
        "id": "M5mpMY2livnI"
      },
      "execution_count": null,
      "outputs": []
    },
    {
      "cell_type": "code",
      "source": [
        "# Mencari jumlah dari data diagnosis (int64)\n",
        "cancer2['diagnosis'].value_counts()"
      ],
      "metadata": {
        "id": "48bh9xkr7VDZ"
      },
      "execution_count": null,
      "outputs": []
    },
    {
      "cell_type": "code",
      "source": [
        "# Membuat data dan atribut dalam dataset\n",
        "cancer.describe().values"
      ],
      "metadata": {
        "id": "sFjTRf3n5t4m"
      },
      "execution_count": null,
      "outputs": []
    },
    {
      "cell_type": "markdown",
      "source": [
        "### Exploratory Data Analysis (EDA)\n",
        "\n"
      ],
      "metadata": {
        "id": "j_5J6qmukEkJ"
      }
    },
    {
      "cell_type": "code",
      "source": [
        "# Univariate analysis\n",
        "# 0 untuk  Benign Cancer (B) dan 1 untuk Malignant Cancer (M)\n",
        "plt.figure(figsize=(9,7))\n",
        "plt.title('Jumlah Tipe Kanker')\n",
        "sns.countplot(x='diagnosis', data=cancer2)\n",
        "plt.xlabel('Tipe')\n",
        "plt.ylabel('Jumlah')\n",
        "plt.show()"
      ],
      "metadata": {
        "id": "ylA553obSyKq"
      },
      "execution_count": null,
      "outputs": []
    },
    {
      "cell_type": "code",
      "source": [
        "# Bivariate analysis\n",
        "# Bagian 1: diagnosis dengan radius_mean\n",
        "# Bagian 2: diagnosis dengan Texture_mean\n",
        "plt.subplot(1,2,1)\n",
        "sns.boxplot(x='diagnosis', y='radius_mean', data=cancer)\n",
        "\n",
        "plt.subplot(1,2,2)\n",
        "sns.boxplot(x='diagnosis', y='texture_mean', data=cancer)\n",
        "\n",
        "plt.show()"
      ],
      "metadata": {
        "id": "If-BYKTsqNBw"
      },
      "execution_count": null,
      "outputs": []
    },
    {
      "cell_type": "code",
      "source": [
        "plt.figure(figsize=(7, 5))\n",
        "sns.distplot(cancer2.radius_mean[cancer2.diagnosis == 0], color=\"r\" ,label=\"Benign cancer\")\n",
        "sns.distplot(cancer2.radius_mean[cancer2.diagnosis == 1], color=\"g\" ,label=\"Malignant cancer\")\n",
        "plt.legend()\n",
        "plt.show()"
      ],
      "metadata": {
        "id": "78QVuUNXW96L"
      },
      "execution_count": null,
      "outputs": []
    },
    {
      "cell_type": "code",
      "source": [
        "plt.figure(figsize=(7, 5))\n",
        "sns.distplot(cancer2.texture_mean[cancer2.diagnosis == 0], color=\"r\" ,label=\"Benign cancer\")\n",
        "sns.distplot(cancer2.texture_mean[cancer2.diagnosis == 1], color=\"g\" ,label=\"Malignant cancer\")\n",
        "plt.legend()\n",
        "plt.show()"
      ],
      "metadata": {
        "id": "UHs2k4NPSbQ1"
      },
      "execution_count": null,
      "outputs": []
    },
    {
      "cell_type": "code",
      "source": [
        "# Multivariate analysis\n",
        "korelasi = cancer.corr()\n",
        "korelasi.shape"
      ],
      "metadata": {
        "id": "9N0L3l8bssor"
      },
      "execution_count": null,
      "outputs": []
    },
    {
      "cell_type": "code",
      "source": [
        "# Visualisasi heeatmap\n",
        "plt.figure(figsize=(15,13))\n",
        "heatmap = sns.heatmap(korelasi, cbar=True, square=True, annot=True, annot_kws={'size':9}, vmin=-1, vmax=1, fmt=\".1f\",linewidth=.5, cmap=\"viridis\")\n",
        "heatmap.set_title('Correlation Heatmap', fontdict={'fontsize':12}, pad=9)"
      ],
      "metadata": {
        "id": "s5sRw8U2UZbo"
      },
      "execution_count": null,
      "outputs": []
    },
    {
      "cell_type": "code",
      "source": [
        "# Membuat histogram untuk setiap kolom\n",
        "cancer.hist(figsize=(20,20))\n",
        "plt.show()"
      ],
      "metadata": {
        "id": "E5ktoKNIAGa-"
      },
      "execution_count": null,
      "outputs": []
    },
    {
      "cell_type": "markdown",
      "source": [
        "# 4. Modeling"
      ],
      "metadata": {
        "id": "l3yzwAM1wJdO"
      }
    },
    {
      "cell_type": "code",
      "source": [
        "# atribut biasa\n",
        "x = cancer.drop(columns='diagnosis')\n",
        "x.head().values"
      ],
      "metadata": {
        "id": "70JnHm-VwHz_"
      },
      "execution_count": null,
      "outputs": []
    },
    {
      "cell_type": "code",
      "source": [
        "# Atribut spesial\n",
        "y = cancer['diagnosis']\n",
        "y.head().values"
      ],
      "metadata": {
        "id": "25hUTp5kXtXb"
      },
      "execution_count": null,
      "outputs": []
    },
    {
      "cell_type": "code",
      "source": [
        "# Split data menjadi data training (70%) dan data testing (30%)\n",
        "xtrain, xtest, ytrain, ytest = train_test_split(x, y, test_size=0.3, random_state=0)"
      ],
      "metadata": {
        "id": "kJdlW4bzYAbl"
      },
      "execution_count": null,
      "outputs": []
    },
    {
      "cell_type": "markdown",
      "source": [
        "### Algoritma k-NN"
      ],
      "metadata": {
        "id": "ZaIgAxMRYi56"
      }
    },
    {
      "cell_type": "code",
      "source": [
        "# k-NN\n",
        "knn = KNeighborsClassifier(n_neighbors=5, weights='distance', p=2, metric='euclidean')\n",
        "\n",
        "# Training\n",
        "knn.fit(xtrain, ytrain)"
      ],
      "metadata": {
        "id": "t0R1LtFFYfs1"
      },
      "execution_count": null,
      "outputs": []
    },
    {
      "cell_type": "code",
      "source": [
        "#Klasifikasi dengan algoritma Naive Bayes\n",
        "ypred = knn.predict(xtest)"
      ],
      "metadata": {
        "id": "ykLZuxbkcwMj"
      },
      "execution_count": null,
      "outputs": []
    },
    {
      "cell_type": "code",
      "source": [
        "# confusion_matrix\n",
        "print(confusion_matrix(ytest,ypred))"
      ],
      "metadata": {
        "id": "uRn7PwHXaD4M"
      },
      "execution_count": null,
      "outputs": []
    },
    {
      "cell_type": "code",
      "source": [
        "# akurasi k-NN\n",
        "print(accuracy_score(ytest,ypred))"
      ],
      "metadata": {
        "id": "ykZzFFzgaN7-"
      },
      "execution_count": null,
      "outputs": []
    },
    {
      "cell_type": "code",
      "source": [
        "report=classification_report(ytest,ypred)\n",
        "print(report)"
      ],
      "metadata": {
        "id": "m5R8zGUlc_jl"
      },
      "execution_count": null,
      "outputs": []
    },
    {
      "cell_type": "markdown",
      "source": [
        "### Algoritma Naive Bayes"
      ],
      "metadata": {
        "id": "52VUwABCabA7"
      }
    },
    {
      "cell_type": "code",
      "source": [
        "# Naive Bayes\n",
        "nb = GaussianNB()\n",
        "\n",
        "# Training\n",
        "nb.fit(xtrain, ytrain)"
      ],
      "metadata": {
        "id": "6EPCu0IvaWwZ"
      },
      "execution_count": null,
      "outputs": []
    },
    {
      "cell_type": "code",
      "source": [
        "#Klasifikasi dengan algoritma Naive Bayes\n",
        "ypred = nb.predict(xtest)"
      ],
      "metadata": {
        "id": "fs0oAwO9blpy"
      },
      "execution_count": null,
      "outputs": []
    },
    {
      "cell_type": "code",
      "source": [
        "# akurasi Naive Bayes\n",
        "print(accuracy_score(ytest,ypred))"
      ],
      "metadata": {
        "id": "jRy5BzU09DWc"
      },
      "execution_count": null,
      "outputs": []
    },
    {
      "cell_type": "code",
      "source": [
        "report=classification_report(ytest,ypred)\n",
        "print(report)"
      ],
      "metadata": {
        "id": "iC_HFHxYbtIw"
      },
      "execution_count": null,
      "outputs": []
    },
    {
      "cell_type": "markdown",
      "source": [
        "### Algoritma Decision Tree"
      ],
      "metadata": {
        "id": "4eRbIFiW9Nx2"
      }
    },
    {
      "cell_type": "code",
      "source": [
        "# Decision Tree\n",
        "dt = DecisionTreeClassifier()\n",
        "\n",
        "# Training\n",
        "dt.fit(xtrain, ytrain)"
      ],
      "metadata": {
        "id": "q5MiC6GB9WUI"
      },
      "execution_count": null,
      "outputs": []
    },
    {
      "cell_type": "code",
      "source": [
        "#Klasifikasi dengan algoritma Decision Tree\n",
        "ypred = dt.predict(xtest)"
      ],
      "metadata": {
        "id": "eth_GvmoZZ5n"
      },
      "execution_count": null,
      "outputs": []
    },
    {
      "cell_type": "code",
      "source": [
        "# akurasi Decision Tree\n",
        "print(accuracy_score(ytest,ypred))"
      ],
      "metadata": {
        "id": "Q1aTjV2Z-Z6Z"
      },
      "execution_count": null,
      "outputs": []
    },
    {
      "cell_type": "code",
      "source": [
        "report=classification_report(ytest,ypred)\n",
        "print(report)"
      ],
      "metadata": {
        "id": "O_gHTDjKYqwv"
      },
      "execution_count": null,
      "outputs": []
    },
    {
      "cell_type": "markdown",
      "source": [
        "### Logistic Regression"
      ],
      "metadata": {
        "id": "oY9K2Gd9Wg_l"
      }
    },
    {
      "cell_type": "code",
      "source": [
        "# LogisticRegression\n",
        "regressor=LogisticRegression(random_state=0)\n",
        "\n",
        "# Training\n",
        "regressor.fit(xtrain,ytrain)"
      ],
      "metadata": {
        "id": "MsqAl1OqWgtU"
      },
      "execution_count": null,
      "outputs": []
    },
    {
      "cell_type": "code",
      "source": [
        "ypred=regressor.predict(xtest)"
      ],
      "metadata": {
        "id": "_zG2oRW-XMT1"
      },
      "execution_count": null,
      "outputs": []
    },
    {
      "cell_type": "code",
      "source": [
        "print(accuracy_score(ytest,ypred))"
      ],
      "metadata": {
        "id": "jctJL7ohf_pF"
      },
      "execution_count": null,
      "outputs": []
    },
    {
      "cell_type": "code",
      "source": [
        "report=classification_report(ytest,ypred)\n",
        "print(report)"
      ],
      "metadata": {
        "id": "l_7dEFN1XX-w"
      },
      "execution_count": null,
      "outputs": []
    },
    {
      "cell_type": "markdown",
      "source": [
        "### Random Forest"
      ],
      "metadata": {
        "id": "hQup6WhArYQX"
      }
    },
    {
      "cell_type": "code",
      "source": [
        "# Random Forest\n",
        "RF = RandomForestClassifier()\n",
        "\n",
        "# Training\n",
        "RF.fit(xtrain,ytrain)"
      ],
      "metadata": {
        "id": "mJFlPjDmrXsP"
      },
      "execution_count": null,
      "outputs": []
    },
    {
      "cell_type": "code",
      "source": [
        "#Klasifikasi dengan algoritma Random Forest\n",
        "ypred = RF.predict(xtest)"
      ],
      "metadata": {
        "id": "NGtyYCkCsyW-"
      },
      "execution_count": null,
      "outputs": []
    },
    {
      "cell_type": "code",
      "source": [
        "# akurasi Random Forest\n",
        "print(accuracy_score(ytest,ypred))"
      ],
      "metadata": {
        "id": "9L_s-N1ds_MJ"
      },
      "execution_count": null,
      "outputs": []
    },
    {
      "cell_type": "code",
      "source": [
        "report=classification_report(ytest,ypred)\n",
        "print(report)"
      ],
      "metadata": {
        "id": "b7a1YPNMtIVA"
      },
      "execution_count": null,
      "outputs": []
    },
    {
      "cell_type": "markdown",
      "source": [
        "### Support Vector Machine"
      ],
      "metadata": {
        "id": "6DUwhBaR0qA8"
      }
    },
    {
      "cell_type": "code",
      "source": [
        "# Support Vector Machine\n",
        "svc = SVC(kernel = 'linear', random_state = 0)\n",
        "\n",
        "# Training\n",
        "svc.fit(xtrain, ytrain)"
      ],
      "metadata": {
        "id": "pZYLYWz90x5I"
      },
      "execution_count": null,
      "outputs": []
    },
    {
      "cell_type": "code",
      "source": [
        "# Klasifikasi dengan algoritma Support Vector Machine\n",
        "ypred=svc.predict(xtest)"
      ],
      "metadata": {
        "id": "0nab3GsL1Zlb"
      },
      "execution_count": null,
      "outputs": []
    },
    {
      "cell_type": "code",
      "source": [
        "# Akurasi Support Vector Machine\n",
        "print(accuracy_score(ytest,ypred))"
      ],
      "metadata": {
        "id": "pyXP3MT41eNf"
      },
      "execution_count": null,
      "outputs": []
    },
    {
      "cell_type": "code",
      "source": [
        "report=classification_report(ytest,ypred)\n",
        "print(report)"
      ],
      "metadata": {
        "id": "CwDDxohG6f2K"
      },
      "execution_count": null,
      "outputs": []
    },
    {
      "cell_type": "markdown",
      "source": [
        "# 5. Evaluation"
      ],
      "metadata": {
        "id": "BGNPB1eN-z7r"
      }
    },
    {
      "cell_type": "code",
      "source": [
        "models = [knn,nb,dt,regressor,RF,svc]\n",
        "nilai_akurasi = []\n",
        "\n",
        "for model in models:\n",
        "  ypred=model.predict(xtest)\n",
        "  akurasi=accuracy_score(ytest,ypred)\n",
        "\n",
        "  nilai_akurasi.append(akurasi)\n",
        "print(nilai_akurasi)"
      ],
      "metadata": {
        "id": "U0AdqwkV-7Ab"
      },
      "execution_count": null,
      "outputs": []
    },
    {
      "cell_type": "code",
      "source": [
        "# Daftar warna untuk setiap bar\n",
        "colors = ['yellow', 'orange', 'pink', 'blue', 'purple', 'green']\n",
        "\n",
        "# Membuat diagram batang dengan variasi warna\n",
        "fig, ax = plt.subplots()\n",
        "bars = ax.bar(['KNN', 'Naive Bayes', 'DT','LR','RF','SVM'], nilai_akurasi)\n",
        "\n",
        "# Mengatur warna untuk setiap bar\n",
        "for i in range(len(bars)):\n",
        "    bars[i].set_color(colors[i])\n",
        "\n",
        "plt.ylim(0.90, 0.99)\n",
        "plt.title('Perbandingan Algoritma Machine Learning Untuk Penyakit Kanker', fontsize=15, color='black')\n",
        "plt.xlabel(\"Algoritma Machine Learning\", fontsize=12, color=\"r\")\n",
        "plt.ylabel(\"Nilai Akurasi\", fontsize=12, color=\"r\")\n",
        "plt.tight_layout()\n",
        "plt.show()"
      ],
      "metadata": {
        "id": "aDjVrwRD5wo2"
      },
      "execution_count": null,
      "outputs": []
    },
    {
      "cell_type": "code",
      "source": [
        "# Label untuk setiap algoritma\n",
        "labels = ['KNN', 'Decision Tree', 'Naive Bayes','LR','RF','SVM']\n",
        "\n",
        "# Membuat diagram pie\n",
        "plt.title('Perbandingan Algoritma Machine Learning Untuk Penyakit Kanker', fontsize=13, color='black')\n",
        "plt.pie(nilai_akurasi, labels=labels, autopct='%1.2f%%')\n",
        "plt.axis('equal')  # Memastikan diagram pie memiliki bentuk lingkaran\n",
        "plt.show()"
      ],
      "metadata": {
        "id": "_wuABIHmpIO_"
      },
      "execution_count": null,
      "outputs": []
    },
    {
      "cell_type": "markdown",
      "source": [
        "Kesimpulan dari analisis data di atas adalah\n",
        "\n",
        "\n",
        "*   Algoritma K-NN memiliki akurasi ***94%***\n",
        "*   Algoritma Naive Bayes memiliki akurasi ***92%***\n",
        "*   Algoritma Decision Tree memiliki akurasi ***91%***\n",
        "*   Algoritma Logistic Regression memiliki akurasi ***95.32%***\n",
        "*   Algoritma Random Forest Machine memiliki akurasi ***96%***\n",
        "*   Algoritma Support Vector Machine memiliki akurasi ***95.90%***\n",
        "\n",
        "\n",
        "\n",
        "\n",
        "\n"
      ],
      "metadata": {
        "id": "wABNFG0ACAi1"
      }
    }
  ]
}